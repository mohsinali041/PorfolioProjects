{
 "cells": [
  {
   "cell_type": "code",
   "execution_count": null,
   "id": "f98f883a",
   "metadata": {},
   "outputs": [],
   "source": [
    "# import libraries \n",
    "\n",
    "from bs4 import BeautifulSoup\n",
    "import requests\n",
    "import time\n",
    "import datetime\n",
    "\n",
    "import smtplib"
   ]
  },
  {
   "cell_type": "code",
   "execution_count": null,
   "id": "12b1d93a",
   "metadata": {},
   "outputs": [],
   "source": [
    "# Connect to Website and pull in data\n",
    "\n",
    "URL = 'https://www.amazon.com/HP-Touch-Screen-i9-13900H-Keyboard-Accessory/dp/B0CFLW1ZJK/ref=sr_1_1_sspa?_encoding=UTF8&content-id=amzn1.sym.7d5cde1d-b3d4-4ca8-a1cf-489ba1530c6b&keywords=laptops%2Band%2Baccessories&pd_rd_r=eb77fffb-45fb-42a8-9427-ceba16154dad&pd_rd_w=kP9kn&pd_rd_wg=PZhUW&pf_rd_p=7d5cde1d-b3d4-4ca8-a1cf-489ba1530c6b&pf_rd_r=VMBJ3B9708377CGDQ0NM&qid=1703631883&sr=8-1-spons&sp_csd=d2lkZ2V0TmFtZT1zcF9hdGY&th=1'\n",
    "\n",
    "headers = {\"User-Agent\": \"Mozilla/5.0 (Windows NT 10.0; Win64; x64) AppleWebKit/537.36 (KHTML, like Gecko) Chrome/78.0.3904.108 Safari/537.36\", \"Accept-Encoding\":\"gzip, deflate\", \"Accept\":\"text/html,application/xhtml+xml,application/xml;q=0.9,*/*;q=0.8\", \"DNT\":\"1\",\"Connection\":\"close\", \"Upgrade-Insecure-Requests\":\"1\"}\n",
    "\n",
    "page = requests.get(URL, headers=headers)\n",
    "\n",
    "soup1 = BeautifulSoup(page.content, \"lxml\")\n",
    "\n",
    "soup2 = BeautifulSoup(soup1.prettify(), \"lxml\")\n",
    "\n",
    "print(soup2)\n",
    "\n",
    "title = soup2.find(id='productTitle')\n",
    "\n",
    "print(title)"
   ]
  },
  {
   "cell_type": "code",
   "execution_count": null,
   "id": "1020b891",
   "metadata": {},
   "outputs": [],
   "source": [
    "print(title)"
   ]
  },
  {
   "cell_type": "code",
   "execution_count": null,
   "id": "1546ea05",
   "metadata": {},
   "outputs": [],
   "source": [
    "whole_price=soup2.find_all('div', class_=\"a-offscreen)"
   ]
  },
  {
   "cell_type": "code",
   "execution_count": null,
   "id": "f92d3c29",
   "metadata": {},
   "outputs": [],
   "source": [
    "print(whole_price)"
   ]
  },
  {
   "cell_type": "code",
   "execution_count": null,
   "id": "00cb2216",
   "metadata": {},
   "outputs": [],
   "source": [
    "for price in whole_price:\n",
    "    actual_price=price.find(class_=\"a-offscreen\").get_text().strip()"
   ]
  },
  {
   "cell_type": "code",
   "execution_count": null,
   "id": "eded1912",
   "metadata": {},
   "outputs": [],
   "source": [
    "print(actual_price)"
   ]
  },
  {
   "cell_type": "code",
   "execution_count": null,
   "id": "71b32b9b",
   "metadata": {},
   "outputs": [],
   "source": [
    "# Create a Timestamp for your output to track when data was collected\n",
    "\n",
    "import datetime\n",
    "\n",
    "today = datetime.date.today()\n",
    "\n",
    "print(today)\n"
   ]
  },
  {
   "cell_type": "code",
   "execution_count": null,
   "id": "b633a911",
   "metadata": {},
   "outputs": [],
   "source": [
    "# Create CSV and write headers and data into the file\n",
    "\n",
    "import csv \n",
    "\n",
    "header = ['Title', 'Price', 'Date']\n",
    "data = [title, actual_price, today]\n",
    "\n",
    "\n",
    "with open('AmazonWebScraperDataset.csv', 'w', newline='', encoding='UTF8') as f:\n",
    "    writer = csv.writer(f)\n",
    "    writer.writerow(header)\n",
    "    writer.writerow(data)\n",
    "    "
   ]
  },
  {
   "cell_type": "code",
   "execution_count": null,
   "id": "ef5cc782",
   "metadata": {},
   "outputs": [],
   "source": [
    "import pandas as pd\n",
    "\n",
    "df = pd.read_csv(r\"C:\\Users\\Mohsin Ali\\AmazonWebScraperDataset.csv\")\n",
    "print(df)"
   ]
  },
  {
   "cell_type": "code",
   "execution_count": null,
   "id": "2a466dd5",
   "metadata": {},
   "outputs": [],
   "source": [
    "#Now we are appending data to the csv\n",
    "\n",
    "with open('AmazonWebScraperDataset.csv', 'a+', newline='', encoding='UTF8') as f:\n",
    "    writer = csv.writer(f)\n",
    "    writer.writerow(data)"
   ]
  },
  {
   "cell_type": "code",
   "execution_count": null,
   "id": "5ad23afa",
   "metadata": {},
   "outputs": [],
   "source": [
    "#Combine all of the above code into one function\n",
    "\n",
    "\n",
    "def check_price():\n",
    "    URL = 'https://www.zara.com/uk/en/quilted-bomber-jacket-p03918425.html?v1=279485697&v2=2300693'\n",
    "\n",
    "    headers = {\"User-Agent\": \"Mozilla/5.0 (Windows NT 10.0; Win64; x64) AppleWebKit/537.36 (KHTML, like Gecko) Chrome/78.0.3904.108 Safari/537.36\", \"Accept-Encoding\":\"gzip, deflate\", \"Accept\":\"text/html,application/xhtml+xml,application/xml;q=0.9,*/*;q=0.8\", \"DNT\":\"1\",\"Connection\":\"close\", \"Upgrade-Insecure-Requests\":\"1\"}\n",
    "\n",
    "    page = requests.get(URL, headers=headers)\n",
    "\n",
    "    soup1 = BeautifulSoup(page.content, \"html.parser\")\n",
    "\n",
    "    soup2 = BeautifulSoup(soup1.prettify(), \"html.parser\")\n",
    "\n",
    "    title = soup2.find(id='productTitle').get_text().strip()\n",
    "\n",
    "    whole_price=soup2.find_all('div', class_=\"a-section a-spacing-none aok-align-center\")\n",
    "    \n",
    "    for price in whole_price:\n",
    "        actual_price=price.find(class_=\"a-offscreen\").get_text().strip()\n",
    "\n",
    "    actual_price = actual_price.strip()[1:]\n",
    "    title = title.strip()\n",
    "\n",
    "    import datetime\n",
    "\n",
    "    today = datetime.date.today()\n",
    "    \n",
    "    import csv \n",
    "\n",
    "    header = ['Title', 'Price', 'Date']\n",
    "    data = [title, price, today]\n",
    "\n",
    "    with open('AmazonWebScraperDataset.csv', 'a+', newline='', encoding='UTF8') as f:\n",
    "        writer = csv.writer(f)\n",
    "        writer.writerow(data)"
   ]
  },
  {
   "cell_type": "code",
   "execution_count": null,
   "id": "ba692d30",
   "metadata": {},
   "outputs": [],
   "source": [
    "# Runs check_price after a set time and inputs data into your CSV\n",
    "\n",
    "while(True):\n",
    "    check_price()\n",
    "    time.sleep(86400)"
   ]
  },
  {
   "cell_type": "code",
   "execution_count": null,
   "id": "e7195d6c",
   "metadata": {},
   "outputs": [],
   "source": [
    "print(actual_price)"
   ]
  },
  {
   "cell_type": "code",
   "execution_count": null,
   "id": "f2aeda60",
   "metadata": {},
   "outputs": [],
   "source": [
    "# If uou want to try sending yourself an email (just for fun) when a price hits below a certain level you can try it\n",
    "# out with this script\n",
    "\n",
    "def send_mail():\n",
    "    server = smtplib.SMTP_SSL('smtp.gmail.com',465)\n",
    "    server.ehlo()\n",
    "    #server.starttls()\n",
    "    server.ehlo()\n",
    "    server.login('mohsinali0044@gmail.com','kvsh ihxr vhva yrzz')\n",
    "    \n",
    "    subject = \"The jacket you want is below $40! Now is your chance to buy!\"\n",
    "    body = \"Mohsin, This is the moment you have been waiting for. Now is your chance to pick up the shirt of your dreams. Don't mess it up! Link here: https://www.zara.com/uk/en/quilted-bomber-jacket-p03918425.html?v1=279485697&v2=2300693\"\n",
    "   \n",
    "    msg = f\"Subject: {subject}\\n\\n{body}\"\n",
    "    \n",
    "    server.sendmail(\n",
    "        'mohsinali0044@gmail.com','mohsinali0044@gmail.com',\n",
    "        msg\n",
    "     \n",
    "    )"
   ]
  },
  {
   "cell_type": "code",
   "execution_count": null,
   "id": "42263f1d",
   "metadata": {},
   "outputs": [],
   "source": [
    "actual_price=actual_price.strip()[1:]"
   ]
  },
  {
   "cell_type": "code",
   "execution_count": null,
   "id": "876100ec",
   "metadata": {},
   "outputs": [],
   "source": [
    "type(actual_price)"
   ]
  },
  {
   "cell_type": "code",
   "execution_count": null,
   "id": "60c76546",
   "metadata": {},
   "outputs": [],
   "source": [
    "print(actual_price)"
   ]
  },
  {
   "cell_type": "code",
   "execution_count": null,
   "id": "40772829",
   "metadata": {},
   "outputs": [],
   "source": [
    "actual_price=int(float(actual_price))"
   ]
  },
  {
   "cell_type": "code",
   "execution_count": null,
   "id": "e0985666",
   "metadata": {},
   "outputs": [],
   "source": [
    "if(actual_price < 100):\n",
    "    send_mail()"
   ]
  },
  {
   "cell_type": "code",
   "execution_count": null,
   "id": "5687bba5",
   "metadata": {},
   "outputs": [],
   "source": []
  }
 ],
 "metadata": {
  "kernelspec": {
   "display_name": "Python 3 (ipykernel)",
   "language": "python",
   "name": "python3"
  },
  "language_info": {
   "codemirror_mode": {
    "name": "ipython",
    "version": 3
   },
   "file_extension": ".py",
   "mimetype": "text/x-python",
   "name": "python",
   "nbconvert_exporter": "python",
   "pygments_lexer": "ipython3",
   "version": "3.11.5"
  }
 },
 "nbformat": 4,
 "nbformat_minor": 5
}
